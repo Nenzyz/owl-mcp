{
 "cells": [
  {
   "cell_type": "markdown",
   "metadata": {},
   "source": [
    "# OWL-Server MCP Client Example, Using CL\n"
   ]
  },
  {
   "cell_type": "markdown",
   "metadata": {},
   "source": [
    "## Setup and Installation\n",
    "\n",
    "First, make sure you have the required packages installed:"
   ]
  },
  {
   "cell_type": "code",
   "execution_count": 1,
   "metadata": {},
   "outputs": [],
   "source": [
    "import owl_mcp"
   ]
  },
  {
   "cell_type": "code",
   "execution_count": 2,
   "metadata": {},
   "outputs": [],
   "source": [
    "!mkdir -p ../../tmp"
   ]
  },
  {
   "cell_type": "code",
   "execution_count": 3,
   "metadata": {},
   "outputs": [],
   "source": [
    "!cd ../../tmp && (test -d cell-ontology || git clone https://github.com/obophenotype/cell-ontology.git)"
   ]
  },
  {
   "cell_type": "code",
   "execution_count": 4,
   "metadata": {},
   "outputs": [],
   "source": [
    "cl_path = \"../../tmp/cell-ontology/src/ontology/cl-edit.owl\""
   ]
  },
  {
   "cell_type": "code",
   "execution_count": 5,
   "metadata": {},
   "outputs": [],
   "source": [
    "from owl_mcp.owl_api import SimpleOwlAPI"
   ]
  },
  {
   "cell_type": "code",
   "execution_count": 6,
   "metadata": {},
   "outputs": [
    {
     "name": "stderr",
     "output_type": "stream",
     "text": [
      "2025-06-01 18:24:23,480 - simple-owl-api - INFO - Loading ontology from /Users/cjm/repos/owl-mcp/tmp/cell-ontology/src/ontology/cl-edit.owl\n"
     ]
    }
   ],
   "source": [
    "ont = SimpleOwlAPI(cl_path)"
   ]
  },
  {
   "cell_type": "code",
   "execution_count": 7,
   "metadata": {},
   "outputs": [
    {
     "data": {
      "text/plain": [
       "<owl_mcp.owl_api.SimpleOwlAPI at 0x10f920280>"
      ]
     },
     "execution_count": 7,
     "metadata": {},
     "output_type": "execute_result"
    }
   ],
   "source": [
    "ont"
   ]
  },
  {
   "cell_type": "code",
   "execution_count": 8,
   "metadata": {},
   "outputs": [
    {
     "data": {
      "text/plain": [
       "['epithelial cell of glomerular capsule']"
      ]
     },
     "execution_count": 8,
     "metadata": {},
     "output_type": "execute_result"
    }
   ],
   "source": [
    "ont.get_labels_for_iri(\"http://purl.obolibrary.org/obo/CL_1000450\")"
   ]
  },
  {
   "cell_type": "code",
   "execution_count": 9,
   "metadata": {},
   "outputs": [
    {
     "data": {
      "text/plain": [
       "['brain']"
      ]
     },
     "execution_count": 9,
     "metadata": {},
     "output_type": "execute_result"
    }
   ],
   "source": [
    "ont.get_labels_for_iri(\"http://purl.obolibrary.org/obo/UBERON_0000955\")"
   ]
  },
  {
   "cell_type": "code",
   "execution_count": 10,
   "metadata": {},
   "outputs": [
    {
     "data": {
      "text/plain": [
       "[]"
      ]
     },
     "execution_count": 10,
     "metadata": {},
     "output_type": "execute_result"
    }
   ],
   "source": [
    "ont.get_labels_for_iri(\"http://purl.obolibrary.org/obo/UBERON_0000955\", include_imports=False)"
   ]
  },
  {
   "cell_type": "code",
   "execution_count": 12,
   "metadata": {},
   "outputs": [
    {
     "name": "stdout",
     "output_type": "stream",
     "text": [
      "ADDING <pyhornedowl.model.AnnotatedComponent object at 0x138a89e30> :: <pyhornedowl.model.SubClassOf object at 0x138a4cc90>\n"
     ]
    },
    {
     "data": {
      "text/plain": [
       "True"
      ]
     },
     "execution_count": 12,
     "metadata": {},
     "output_type": "execute_result"
    }
   ],
   "source": [
    "ont.add_axiom(\n",
    "    \"SubClassOf(<http://purl.obolibrary.org/obo/FOO_1> <http://purl.obolibrary.org/obo/FOO_2>)\"\n",
    ")"
   ]
  },
  {
   "cell_type": "code",
   "execution_count": 13,
   "metadata": {},
   "outputs": [
    {
     "data": {
      "text/plain": [
       "['SubClassOf(obo:FOO_1 obo:FOO_2)']"
      ]
     },
     "execution_count": 13,
     "metadata": {},
     "output_type": "execute_result"
    }
   ],
   "source": [
    "ont.find_axioms(\"FOO_1\")"
   ]
  },
  {
   "cell_type": "code",
   "execution_count": 14,
   "metadata": {},
   "outputs": [
    {
     "name": "stdout",
     "output_type": "stream",
     "text": [
      "Prefix(:=<http://purl.obolibrary.org/obo/cl.owl#>)\n",
      "Prefix(cl:=<http://purl.obolibrary.org/obo/cl#>)\n",
      "Prefix(dc:=<http://purl.org/dc/elements/1.1/>)\n",
      "Prefix(go:=<http://purl.obolibrary.org/obo/go#>)\n",
      "Prefix(pr:=<http://purl.obolibrary.org/obo/pr#>)\n",
      "Prefix(obo:=<http://purl.obolibrary.org/obo/>)\n",
      "Prefix(owl:=<http://www.w3.org/2002/07/owl#>)\n",
      "Prefix(rdf:=<http://www.w3.org/1999/02/22-rdf-syntax-ns#>)\n",
      "Prefix(xml:=<http://www.w3.org/XML/1998/namespace>)\n",
      "Prefix(xsd:=<http://www.w3.org/2001/XMLSchema#>)\n"
     ]
    }
   ],
   "source": [
    "!head ../../tmp/cell-ontology/src/ontology/cl-edit.owl"
   ]
  },
  {
   "cell_type": "code",
   "execution_count": null,
   "metadata": {},
   "outputs": [],
   "source": []
  }
 ],
 "metadata": {
  "kernelspec": {
   "display_name": "Python 3 (ipykernel)",
   "language": "python",
   "name": "python3"
  },
  "language_info": {
   "codemirror_mode": {
    "name": "ipython",
    "version": 3
   },
   "file_extension": ".py",
   "mimetype": "text/x-python",
   "name": "python",
   "nbconvert_exporter": "python",
   "pygments_lexer": "ipython3",
   "version": "3.10.9"
  }
 },
 "nbformat": 4,
 "nbformat_minor": 4
}
